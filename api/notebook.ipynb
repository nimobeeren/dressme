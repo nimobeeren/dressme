{
 "cells": [
  {
   "cell_type": "code",
   "execution_count": null,
   "metadata": {},
   "outputs": [],
   "source": [
    "%reload_ext dotenv\n",
    "%dotenv\n",
    "%reload_ext autoreload\n",
    "%autoreload 2"
   ]
  },
  {
   "cell_type": "code",
   "execution_count": null,
   "metadata": {},
   "outputs": [],
   "source": [
    "import replicate\n",
    "import requests\n",
    "from PIL import Image\n",
    "from tqdm.notebook import tqdm"
   ]
  },
  {
   "cell_type": "code",
   "execution_count": null,
   "metadata": {},
   "outputs": [],
   "source": [
    "humans = {\n",
    "    \"model\": {\"name\": \"model\", \"image_path\": \"../images/humans/model.jpg\"},\n",
    "    \"nimo\": {\"name\": \"nimo\", \"image_path\": \"../images/humans/nimo_underwear.jpg\"},\n",
    "}\n",
    "garments = {\n",
    "    \"tshirt\": {\n",
    "        \"name\": \"tshirt\",\n",
    "        \"description\": \"purple t-shirt\",\n",
    "        \"category\": \"upper_body\",\n",
    "        \"image_path\": \"../images/garments/tops/tshirt.webp\",\n",
    "    },\n",
    "    \"sweater\": {\n",
    "        \"name\": \"sweater\",\n",
    "        \"description\": \"oversized pink sweater\",\n",
    "        \"category\": \"upper_body\",\n",
    "        \"image_path\": \"../images/garments/tops/sweater.jpg\",\n",
    "    },\n",
    "    \"striped_sweater\": {\n",
    "        \"name\": \"striped_sweater\",\n",
    "        \"description\": \"black and white striped sweater\",\n",
    "        \"category\": \"upper_body\",\n",
    "        \"image_path\": \"../images/garments/tops/striped_sweater.webp\",\n",
    "    },\n",
    "    \"winter_coat\": {\n",
    "        \"name\": \"winter_coat\",\n",
    "        \"description\": \"winter coat with fur lined hood\",\n",
    "        \"category\": \"upper_body\",\n",
    "        \"image_path\": \"../images/garments/tops/winter_coat.webp\",\n",
    "    },\n",
    "    \"raincoat\": {\n",
    "        \"name\": \"raincoat\",\n",
    "        \"description\": \"light blue hip-length raincoat\",\n",
    "        \"category\": \"upper_body\",\n",
    "        \"image_path\": \"../images/garments/tops/raincoat.webp\",\n",
    "    },\n",
    "    \"jeans\": {\n",
    "        \"name\": \"jeans\",\n",
    "        \"description\": \"slim fit washed jeans\",\n",
    "        \"category\": \"lower_body\",\n",
    "        \"image_path\": \"../images/garments/bottoms/jeans.webp\",\n",
    "    },\n",
    "    \"joggers\": {\n",
    "        \"name\": \"joggers\",\n",
    "        \"description\": \"pink joggers\",\n",
    "        \"category\": \"lower_body\",\n",
    "        \"image_path\": \"../images/garments/bottoms/joggers.jpg\",\n",
    "    },\n",
    "    \"gym_shorts\": {\n",
    "        \"name\": \"gym_shorts\",\n",
    "        \"description\": \"short white gym shorts\",\n",
    "        \"category\": \"lower_body\",\n",
    "        \"image_path\": \"../images/garments/bottoms/gym_shorts.webp\",\n",
    "    }\n",
    "}"
   ]
  },
  {
   "cell_type": "code",
   "execution_count": null,
   "metadata": {},
   "outputs": [],
   "source": [
    "from sqlmodel import SQLModel, Session\n",
    "\n",
    "from wardrobe.db import engine\n",
    "from wardrobe.models import Wearable, WearableImage\n",
    "\n",
    "\n",
    "with Session(engine) as session:\n",
    "    for garment in garments.values():\n",
    "        with open(garment[\"image_path\"], \"rb\") as image_file:\n",
    "            wearable_image = WearableImage(image_data=image_file.read())\n",
    "            session.add(wearable_image)\n",
    "\n",
    "        wearable = Wearable(\n",
    "            category=garment[\"category\"],\n",
    "            description=garment[\"description\"],\n",
    "            wearable_image_id=wearable_image.id,\n",
    "        )\n",
    "        session.add(wearable)\n",
    "    session.commit()"
   ]
  },
  {
   "cell_type": "code",
   "execution_count": null,
   "metadata": {},
   "outputs": [],
   "source": [
    "from sqlmodel import Session, select\n",
    "from wardrobe.db import engine\n",
    "from wardrobe.models import WearableImage\n",
    "\n",
    "with Session(engine) as session:\n",
    "    session.add(WearableImage(image_data=b\"foo\"))\n",
    "    u = session.exec(select(WearableImage).where(WearableImage.image_data == b\"foo\")).one()\n",
    "    print(\"Found:\", u)"
   ]
  },
  {
   "cell_type": "markdown",
   "metadata": {},
   "source": [
    "### Figure out where to draw the garment (pre-masking)\n",
    "\n",
    "Only need to do this once per category/human combination"
   ]
  },
  {
   "cell_type": "code",
   "execution_count": null,
   "metadata": {},
   "outputs": [],
   "source": [
    "def generate_mask(category, human):\n",
    "    input = {\n",
    "        # Garment doesn't matter if mask_only is True\n",
    "        \"garm_img\": open(next(iter(garments.values()))[\"image_path\"], \"rb\"),\n",
    "        \"human_img\": open(human[\"image_path\"], \"rb\"),\n",
    "        \"category\": category,\n",
    "        \"mask_only\": True,\n",
    "    }\n",
    "\n",
    "    result_url = replicate.run(\n",
    "        \"cuuupid/idm-vton:c871bb9b046607b680449ecbae55fd8c6d945e0a1948644bf2361b3d021d3ff4\",\n",
    "        input=input,\n",
    "    )\n",
    "    \n",
    "    return Image.open(requests.get(result_url, stream=True).raw)"
   ]
  },
  {
   "cell_type": "code",
   "execution_count": null,
   "metadata": {},
   "outputs": [],
   "source": [
    "im = generate_mask(category=\"lower_body\", human=humans[\"nimo\"])\n",
    "im.save(f\"../images/masks/{humans[\"nimo\"][\"name\"]}/pre/bottom.jpg\")\n",
    "im"
   ]
  },
  {
   "cell_type": "markdown",
   "metadata": {},
   "source": [
    "### Put single garment on human\n",
    "\n",
    "Needs a pre-mask for the given category/human combination"
   ]
  },
  {
   "cell_type": "code",
   "execution_count": null,
   "metadata": {},
   "outputs": [],
   "source": [
    "def put_garment(garment, human):\n",
    "    input = {\n",
    "        \"garm_img\": open(garment[\"image_path\"], \"rb\"),\n",
    "        \"human_img\": open(human[\"image_path\"], \"rb\"),\n",
    "        \"mask_img\": open(\n",
    "            f\"../images/masks/{human[\"name\"]}/pre/top.jpg\"\n",
    "            if garment[\"category\"] == \"upper_body\"\n",
    "            else f\"../images/masks/{human[\"name\"]}/pre/bottom.jpg\",\n",
    "            \"rb\",\n",
    "        ),\n",
    "        \"garment_des\": garment[\"description\"],\n",
    "        \"category\": garment[\"category\"],\n",
    "    }\n",
    "\n",
    "    result_url = replicate.run(\n",
    "        \"cuuupid/idm-vton:c871bb9b046607b680449ecbae55fd8c6d945e0a1948644bf2361b3d021d3ff4\",\n",
    "        input=input,\n",
    "    )\n",
    "\n",
    "    return Image.open(requests.get(result_url, stream=True).raw)"
   ]
  },
  {
   "cell_type": "code",
   "execution_count": null,
   "metadata": {},
   "outputs": [],
   "source": [
    "garment = garments[\"jeans\"]\n",
    "human = humans[\"nimo\"]\n",
    "\n",
    "im = put_garment(garment, human)\n",
    "im.save(f\"../images/results/{human[\"name\"]}/single/{garment[\"name\"]}.jpg\")\n",
    "im"
   ]
  },
  {
   "cell_type": "code",
   "execution_count": null,
   "metadata": {},
   "outputs": [],
   "source": [
    "human = humans[\"nimo\"]\n",
    "for garment in tqdm(garments.values()):\n",
    "    im = put_garment(garment, human)\n",
    "    im.save(f\"../images/results/{human[\"name\"]}/single/{garment[\"name\"]}.jpg\")"
   ]
  },
  {
   "cell_type": "markdown",
   "metadata": {},
   "source": [
    "### Find out where the top garment was drawn (post-masking)\n",
    "\n",
    "Needs to be done for every top garment/human combination"
   ]
  },
  {
   "cell_type": "code",
   "execution_count": null,
   "metadata": {},
   "outputs": [],
   "source": [
    "def mask_garment(garment, human):\n",
    "    prompt = garment[\"description\"]\n",
    "    print(f\"prompt: {repr(prompt)}\")\n",
    "\n",
    "    negative_prompt = \"underwear, shoes\"\n",
    "    if garment[\"category\"] == \"upper_body\":\n",
    "        negative_prompt = \"pants, \" + negative_prompt\n",
    "    else:\n",
    "        negative_prompt = \"top, \" + negative_prompt\n",
    "    print(f\"negative_prompt: {repr(negative_prompt)}\")\n",
    "\n",
    "\n",
    "    input = {\n",
    "        \"image\": open(f\"../images/results/{human[\"name\"]}/single/{garment[\"name\"]}.jpg\", \"rb\"),\n",
    "        \"mask_prompt\": prompt,\n",
    "        \"negative_mask_prompt\": negative_prompt,\n",
    "        \"adjustment_factor\": 0\n",
    "    }\n",
    "\n",
    "    results = replicate.run(\n",
    "        \"schananas/grounded_sam:ee871c19efb1941f55f66a3d7d960428c8a5afcb77449547fe8e5a3ab9ebc21c\",\n",
    "        input=input\n",
    "    )\n",
    "    for result in results:\n",
    "        print(f\"result: {repr(result)}\")\n",
    "        # Results contains some other stuff, we only want the regular mask\n",
    "        if result.endswith(\"/mask.jpg\"):\n",
    "            return Image.open(requests.get(result, stream=True).raw)\n",
    "    raise ValueError(\"Could not get mask URL\")"
   ]
  },
  {
   "cell_type": "code",
   "execution_count": null,
   "metadata": {},
   "outputs": [],
   "source": [
    "garment = garments[\"striped_sweater\"]\n",
    "human = humans[\"nimo\"]\n",
    "\n",
    "im = mask_garment(garment, human)\n",
    "im.save(f\"../images/masks/{human[\"name\"]}/post/{garment[\"name\"]}.jpg\")\n",
    "im"
   ]
  },
  {
   "cell_type": "code",
   "execution_count": null,
   "metadata": {},
   "outputs": [],
   "source": [
    "human = humans[\"nimo\"]\n",
    "for garment in tqdm(garments.values()):\n",
    "    im = mask_garment(garment, human)\n",
    "    im.save(f\"../images/masks/{human[\"name\"]}/post/{garment[\"name\"]}.jpg\")"
   ]
  },
  {
   "cell_type": "markdown",
   "metadata": {},
   "source": [
    "### Combine garments"
   ]
  },
  {
   "cell_type": "code",
   "execution_count": null,
   "metadata": {},
   "outputs": [],
   "source": [
    "from combining import combine_garments\n",
    "\n",
    "human = humans[\"nimo\"]\n",
    "garment_top = garments[\"striped_sweater\"]\n",
    "garment_bottom = garments[\"jeans\"]\n",
    "\n",
    "human_im = Image.open(human[\"image_path\"])\n",
    "print(human_im.format, human_im.size, human_im.mode)\n",
    "\n",
    "result_top_im = Image.open(\n",
    "    f'../images/results/{human[\"name\"]}/single/{garment_top[\"name\"]}.jpg'\n",
    ")\n",
    "print(result_top_im.format, result_top_im.size, result_top_im.mode)\n",
    "\n",
    "result_bottom_im = Image.open(\n",
    "    f'../images/results/{human[\"name\"]}/single/{garment_bottom[\"name\"]}.jpg'\n",
    ")\n",
    "print(result_bottom_im.format, result_bottom_im.size, result_bottom_im.mode)\n",
    "\n",
    "mask_top_im = Image.open(\n",
    "    f'../images/masks/{human[\"name\"]}/post/{garment_top[\"name\"]}.jpg'\n",
    ").convert(\"L\")\n",
    "print(mask_top_im.format, mask_top_im.size, mask_top_im.mode)\n",
    "\n",
    "im = combine_garments(human_im, result_top_im, result_bottom_im, mask_top_im)\n",
    "im.save(f\"../images/results/{human[\"name\"]}/multi/{garment_top[\"name\"]}_{garment_bottom[\"name\"]}.jpg\")\n",
    "im"
   ]
  }
 ],
 "metadata": {
  "kernelspec": {
   "display_name": "virtual-wardrobe-7jiCOgXK-py3.12",
   "language": "python",
   "name": "python3"
  },
  "language_info": {
   "codemirror_mode": {
    "name": "ipython",
    "version": 3
   },
   "file_extension": ".py",
   "mimetype": "text/x-python",
   "name": "python",
   "nbconvert_exporter": "python",
   "pygments_lexer": "ipython3",
   "version": "3.12.6"
  }
 },
 "nbformat": 4,
 "nbformat_minor": 2
}
