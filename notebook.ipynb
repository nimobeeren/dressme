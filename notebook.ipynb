{
 "cells": [
  {
   "cell_type": "code",
   "execution_count": null,
   "metadata": {},
   "outputs": [],
   "source": [
    "%reload_ext dotenv\n",
    "%dotenv"
   ]
  },
  {
   "cell_type": "code",
   "execution_count": null,
   "metadata": {},
   "outputs": [],
   "source": [
    "import replicate\n",
    "import requests\n",
    "from PIL import Image"
   ]
  },
  {
   "cell_type": "code",
   "execution_count": null,
   "metadata": {},
   "outputs": [],
   "source": [
    "garments = {\n",
    "    \"tshirt\": {\n",
    "        \"description\": \"purple t-shirt\",\n",
    "        \"category\": \"upper_body\",\n",
    "        \"image_path\": \"./garments/tops/tshirt.webp\",\n",
    "    },\n",
    "    \"sweater\": {\n",
    "        \"description\": \"oversized pink sweater\",\n",
    "        \"category\": \"upper_body\",\n",
    "        \"image_path\": \"./garments/tops/sweater.jpg\",\n",
    "    },\n",
    "    \"striped_sweater\": {\n",
    "        \"description\": \"black and white striped sweater\",\n",
    "        \"category\": \"upper_body\",\n",
    "        \"image_path\": \"./garments/tops/striped_sweater.webp\",\n",
    "    },\n",
    "    \"winter_coat\": {\n",
    "        \"description\": \"winter coat with fur lined hood\",\n",
    "        \"category\": \"upper_body\",\n",
    "        \"image_path\": \"./garments/tops/winter_coat.webp\",\n",
    "    },\n",
    "    \"raincoat\": {\n",
    "        \"description\": \"light blue hip-length raincoat\",\n",
    "        \"category\": \"upper_body\",\n",
    "        \"image_path\": \"./garments/tops/raincoat.webp\",\n",
    "    },\n",
    "    \"jeans\": {\n",
    "        \"description\": \"slim fit washed jeans\",\n",
    "        \"category\": \"lower_body\",\n",
    "        \"image_path\": \"./garments/bottoms/jeans.webp\",\n",
    "    },\n",
    "    \"joggers\": {\n",
    "        \"description\": \"pink joggers\",\n",
    "        \"category\": \"lower_body\",\n",
    "        \"image_path\": \"./garments/bottoms/joggers.jpg\",\n",
    "    },\n",
    "    \"gym_shorts\": {\n",
    "        \"description\": \"short white gym shorts\",\n",
    "        \"category\": \"lower_body\",\n",
    "        \"image_path\": \"./garments/bottoms/gym_shorts.webp\",\n",
    "    }\n",
    "}"
   ]
  },
  {
   "cell_type": "markdown",
   "metadata": {},
   "source": [
    "### Figure out where the garment might be"
   ]
  },
  {
   "cell_type": "code",
   "execution_count": null,
   "metadata": {},
   "outputs": [],
   "source": [
    "def generate_mask(category):\n",
    "    input = {\n",
    "        # Garment doesn't matter if mask_only is True\n",
    "        \"garm_img\": open(next(iter(garments.values()))[\"image_path\"], \"rb\"),\n",
    "        \"human_img\": open(\"./humans/model.jpg\", \"rb\"),\n",
    "        \"category\": category,\n",
    "        \"mask_only\": True,\n",
    "    }\n",
    "\n",
    "    result_url = replicate.run(\n",
    "        \"cuuupid/idm-vton:c871bb9b046607b680449ecbae55fd8c6d945e0a1948644bf2361b3d021d3ff4\",\n",
    "        input=input,\n",
    "    )\n",
    "    \n",
    "    return Image.open(requests.get(result_url, stream=True).raw)"
   ]
  },
  {
   "cell_type": "code",
   "execution_count": null,
   "metadata": {},
   "outputs": [],
   "source": [
    "im = generate_mask(\"upper_body\")\n",
    "im.save(\"./masks/top.jpg\")\n",
    "im"
   ]
  },
  {
   "cell_type": "markdown",
   "metadata": {},
   "source": [
    "### Put single garment on human"
   ]
  },
  {
   "cell_type": "code",
   "execution_count": null,
   "metadata": {},
   "outputs": [],
   "source": [
    "def put_garment(garment):\n",
    "    input = {\n",
    "        \"garm_img\": open(garment[\"image_path\"], \"rb\"),\n",
    "        \"human_img\": open(\"./humans/model.jpg\", \"rb\"),\n",
    "        \"mask_img\": open(\"./masks/top.jpg\" if garment[\"category\"] == \"upper_body\" else \"./masks/bottom.jpg\", \"rb\"),\n",
    "        \"garment_des\": garment[\"description\"],\n",
    "        \"category\": garment[\"category\"],\n",
    "    }\n",
    "\n",
    "    result_url = replicate.run(\n",
    "        \"cuuupid/idm-vton:c871bb9b046607b680449ecbae55fd8c6d945e0a1948644bf2361b3d021d3ff4\",\n",
    "        input=input\n",
    "    )\n",
    "    \n",
    "    return Image.open(requests.get(result_url, stream=True).raw)"
   ]
  },
  {
   "cell_type": "code",
   "execution_count": null,
   "metadata": {},
   "outputs": [],
   "source": [
    "im = put_garment(garments[\"striped_sweater\"])\n",
    "im.save(\"./results/single/striped_sweater.jpg\")\n",
    "im"
   ]
  },
  {
   "cell_type": "markdown",
   "metadata": {},
   "source": [
    "### Combine garments"
   ]
  },
  {
   "cell_type": "code",
   "execution_count": null,
   "metadata": {},
   "outputs": [],
   "source": [
    "def refine_mask(human, garment_on_human, vton_mask, threshold=1000):\n",
    "    # compute the difference between the two images\n",
    "    mask = Image.new(\"L\", human.size)\n",
    "    for x in range(human.size[0]):\n",
    "        for y in range(human.size[1]):\n",
    "            r1, g1, b1 = human.getpixel((x, y))\n",
    "            r2, g2, b2 = garment_on_human.getpixel((x, y))\n",
    "            if ((r2 - r1) ** 2 + (g2 - g1) ** 2 + (b2 - b1) ** 2) > threshold:\n",
    "                mask.putpixel((x, y), 255)\n",
    "\n",
    "    # intersect mask with vton mask\n",
    "    for x in range(human.size[0]):\n",
    "        for y in range(human.size[1]):\n",
    "            if vton_mask.getpixel((x, y)) == 0:\n",
    "                mask.putpixel((x, y), 0)\n",
    "\n",
    "    return mask"
   ]
  },
  {
   "cell_type": "code",
   "execution_count": null,
   "metadata": {},
   "outputs": [],
   "source": [
    "def combine_garments(human, result_top, result_bottom, mask_top, mask_bottom):\n",
    "    result = Image.new(\"RGB\", human.size)\n",
    "    refined_mask = refine_mask(human, result_top, mask_top)\n",
    "    result.paste(result_bottom, (0, 0))\n",
    "    result.paste(result_top, (0, 0), refined_mask)\n",
    "    return result"
   ]
  },
  {
   "cell_type": "code",
   "execution_count": null,
   "metadata": {},
   "outputs": [],
   "source": [
    "human = Image.open('./humans/model.jpg')\n",
    "print(human.format, human.size, human.mode)\n",
    "\n",
    "mask_bottom = Image.open('./masks/bottom.jpg')\n",
    "print(mask_bottom.format, mask_bottom.size, mask_bottom.mode)\n",
    "\n",
    "mask_top = Image.open('./masks/top.jpg')\n",
    "print(mask_top.format, mask_top.size, mask_top.mode)\n",
    "\n",
    "result_bottom = Image.open('./results/single/jeans.jpg')\n",
    "print(result_bottom.format, result_bottom.size, result_bottom.mode)\n",
    "\n",
    "result_top = Image.open('./results/single/striped_sweater.jpg')\n",
    "print(result_top.format, result_top.size, result_top.mode)\n",
    "\n",
    "im = combine_garments(human, result_top, result_bottom, mask_top, mask_bottom)\n",
    "im.save(\"./results/multi/striped_sweater_jeans.jpg\")\n",
    "im"
   ]
  }
 ],
 "metadata": {
  "kernelspec": {
   "display_name": "virtual-wardrobe-ucgneTSn-py3.12",
   "language": "python",
   "name": "python3"
  },
  "language_info": {
   "codemirror_mode": {
    "name": "ipython",
    "version": 3
   },
   "file_extension": ".py",
   "mimetype": "text/x-python",
   "name": "python",
   "nbconvert_exporter": "python",
   "pygments_lexer": "ipython3",
   "version": "3.12.5"
  }
 },
 "nbformat": 4,
 "nbformat_minor": 2
}
